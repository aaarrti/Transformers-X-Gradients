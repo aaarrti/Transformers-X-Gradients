{
 "cells": [
  {
   "cell_type": "code",
   "execution_count": 2,
   "outputs": [],
   "source": [
    "%load_ext autoreload\n",
    "%autoreload 2"
   ],
   "metadata": {
    "collapsed": false,
    "ExecuteTime": {
     "end_time": "2023-05-04T15:01:54.076174Z",
     "start_time": "2023-05-04T15:01:54.065463Z"
    }
   }
  },
  {
   "cell_type": "code",
   "execution_count": 14,
   "outputs": [
    {
     "data": {
      "text/plain": "[PhysicalDevice(name='/physical_device:CPU:0', device_type='CPU'),\n PhysicalDevice(name='/physical_device:GPU:0', device_type='GPU')]"
     },
     "execution_count": 14,
     "metadata": {},
     "output_type": "execute_result"
    }
   ],
   "source": [
    "from functools import partial\n",
    "from tqdm.notebook import tqdm\n",
    "import tensorflow as tf\n",
    "from transformers import TFDistilBertForSequenceClassification, DistilBertTokenizerFast\n",
    "from transformers_gradients import text_classification, html_heatmap, normalize_sum_to_1\n",
    "\n",
    "\n",
    "tf.config.list_physical_devices()"
   ],
   "metadata": {
    "collapsed": false,
    "ExecuteTime": {
     "end_time": "2023-05-04T15:11:21.190537Z",
     "start_time": "2023-05-04T15:11:21.051116Z"
    }
   }
  },
  {
   "cell_type": "code",
   "execution_count": 4,
   "outputs": [
    {
     "name": "stderr",
     "output_type": "stream",
     "text": [
      "2023-05-04 17:01:57,395:[connectionpool.py:1003->_new_conn()]:DEBUG: Starting new HTTPS connection (1): huggingface.co:443\n",
      "2023-05-04 17:01:57,587:[connectionpool.py:456->_make_request()]:DEBUG: https://huggingface.co:443 \"HEAD /distilbert-base-uncased-finetuned-sst-2-english/resolve/main/config.json HTTP/1.1\" 200 0\n",
      "All PyTorch model weights were used when initializing TFDistilBertForSequenceClassification.\n",
      "\n",
      "All the weights of TFDistilBertForSequenceClassification were initialized from the PyTorch model.\n",
      "If your task is similar to the task the model of the checkpoint was trained on, you can already use TFDistilBertForSequenceClassification for predictions without further training.\n",
      "2023-05-04 17:01:58,894:[connectionpool.py:1003->_new_conn()]:DEBUG: Starting new HTTPS connection (1): huggingface.co:443\n",
      "2023-05-04 17:01:59,048:[connectionpool.py:456->_make_request()]:DEBUG: https://huggingface.co:443 \"HEAD /distilbert-base-uncased-finetuned-sst-2-english/resolve/main/tokenizer_config.json HTTP/1.1\" 200 0\n"
     ]
    }
   ],
   "source": [
    "model = TFDistilBertForSequenceClassification.from_pretrained(\n",
    "    \"distilbert-base-uncased-finetuned-sst-2-english\"\n",
    ")\n",
    "\n",
    "tokenizer = DistilBertTokenizerFast.from_pretrained(\n",
    "    \"distilbert-base-uncased-finetuned-sst-2-english\"\n",
    ")"
   ],
   "metadata": {
    "collapsed": false,
    "ExecuteTime": {
     "end_time": "2023-05-04T15:01:59.084110Z",
     "start_time": "2023-05-04T15:01:57.362263Z"
    }
   }
  },
  {
   "cell_type": "code",
   "execution_count": 5,
   "outputs": [],
   "source": [
    "x = [\"Like four times a year I rediscover Björk and listen to her full discography.\"]\n",
    "y = [1]"
   ],
   "metadata": {
    "collapsed": false,
    "ExecuteTime": {
     "end_time": "2023-05-04T15:01:59.117332Z",
     "start_time": "2023-05-04T15:01:59.078174Z"
    }
   }
  },
  {
   "cell_type": "code",
   "execution_count": 6,
   "outputs": [
    {
     "data": {
      "text/plain": "  0%|          | 0/12 [00:00<?, ?it/s]",
      "application/vnd.jupyter.widget-view+json": {
       "version_major": 2,
       "version_minor": 0,
       "model_id": "08942f56c81f4c87827aea9bd323cfa1"
      }
     },
     "metadata": {},
     "output_type": "display_data"
    },
    {
     "name": "stderr",
     "output_type": "stream",
     "text": [
      "2023-05-04 17:01:59.390543: W tensorflow/tsl/platform/profile_utils/cpu_utils.cc:128] Failed to get CPU frequency: 0 Hz\n"
     ]
    }
   ],
   "source": [
    "a_batch = [\n",
    "    f(model, x, y, tokenizer=tokenizer)[0]\n",
    "    for f in tqdm(\n",
    "        [\n",
    "            text_classification.gradient_norm,\n",
    "            text_classification.gradient_x_input,\n",
    "            text_classification.integrated_gradients,\n",
    "            partial(\n",
    "                text_classification.smooth_grad,\n",
    "                config=dict(explain_fn=\"GradNorm\"),\n",
    "            ),\n",
    "            partial(\n",
    "                text_classification.smooth_grad,\n",
    "                config=dict(explain_fn=\"GradXInput\"),\n",
    "            ),\n",
    "            text_classification.smooth_grad,\n",
    "            partial(\n",
    "                text_classification.noise_grad,\n",
    "                config=dict(explain_fn=\"GradNorm\"),\n",
    "            ),\n",
    "            partial(\n",
    "                text_classification.noise_grad,\n",
    "                config=dict(explain_fn=\"GradXInput\"),\n",
    "            ),\n",
    "            text_classification.noise_grad,\n",
    "            partial(\n",
    "                text_classification.fusion_grad,\n",
    "                config=dict(explain_fn=\"GradNorm\"),\n",
    "            ),\n",
    "            partial(\n",
    "                text_classification.fusion_grad,\n",
    "                config=dict(explain_fn=\"GradXInput\"),\n",
    "            ),\n",
    "            # The last one is very slow for 1 sample, but it get bitter as batch size is maximized.\n",
    "            text_classification.fusion_grad,\n",
    "        ]\n",
    "    )\n",
    "]"
   ],
   "metadata": {
    "collapsed": false,
    "ExecuteTime": {
     "end_time": "2023-05-04T15:05:00.683198Z",
     "start_time": "2023-05-04T15:01:59.113671Z"
    }
   }
  },
  {
   "cell_type": "code",
   "execution_count": 15,
   "outputs": [],
   "source": [
    "a_batch = [normalize_sum_to_1(a) for a in a_batch]"
   ],
   "metadata": {
    "collapsed": false,
    "ExecuteTime": {
     "end_time": "2023-05-04T15:11:24.196561Z",
     "start_time": "2023-05-04T15:11:23.992522Z"
    }
   }
  },
  {
   "cell_type": "code",
   "execution_count": 16,
   "outputs": [
    {
     "data": {
      "text/plain": "<IPython.core.display.HTML object>",
      "text/html": "<!DOCTYPE html>\n<html lang=\"en\">\n<head>\n    <meta charset=\"UTF-8\">\n    <style>\n\n        .container {\n            line-height: 1.4;\n            text-align: center;\n            margin: 10px 10px 10px 10px;\n            color: black;\n            background: white;\n        }\n\n        p {\n            font-size: 16px;\n        }\n\n        .highlight-container, .highlight {\n            position: relative;\n            border-radius: 10% 10% 10% 10%;\n        }\n\n        .highlight-container {\n            display: inline-block;\n        }\n\n        .highlight-container:before {\n            content: \" \";\n            display: block;\n            height: 90%;\n            width: 100%;\n            margin-left: -3px;\n            margin-right: -3px;\n            position: absolute;\n            top: -1px;\n            left: -1px;\n            padding: 10px 3px 3px 10px;\n        }\n\n    </style>\n</head>\n<body>\n\n<div class=\"container\">\n    <p> Gradient Norm <br>\n        \n        <span class=\"highlight-container\" style=\"background:rgb(255.0, 31.0, 31.0) ;\">\n        <span class=\"highlight\"> [CLS] </span>\n        </span> \n        <span class=\"highlight-container\" style=\"background:rgb(255.0, 86.0, 86.0) ;\">\n        <span class=\"highlight\"> like </span>\n        </span> \n        <span class=\"highlight-container\" style=\"background:rgb(255.0, 92.0, 92.0) ;\">\n        <span class=\"highlight\"> four </span>\n        </span> \n        <span class=\"highlight-container\" style=\"background:rgb(255.0, 88.0, 88.0) ;\">\n        <span class=\"highlight\"> times </span>\n        </span> \n        <span class=\"highlight-container\" style=\"background:rgb(255.0, 93.0, 93.0) ;\">\n        <span class=\"highlight\"> a </span>\n        </span> \n        <span class=\"highlight-container\" style=\"background:rgb(255.0, 88.0, 88.0) ;\">\n        <span class=\"highlight\"> year </span>\n        </span> \n        <span class=\"highlight-container\" style=\"background:rgb(255.0, 88.0, 88.0) ;\">\n        <span class=\"highlight\"> i </span>\n        </span> \n        <span class=\"highlight-container\" style=\"background:rgb(255.0, 81.0, 81.0) ;\">\n        <span class=\"highlight\"> red </span>\n        </span> \n        <span class=\"highlight-container\" style=\"background:rgb(255.0, 88.0, 88.0) ;\">\n        <span class=\"highlight\"> ##is </span>\n        </span> \n        <span class=\"highlight-container\" style=\"background:rgb(255.0, 83.0, 83.0) ;\">\n        <span class=\"highlight\"> ##co </span>\n        </span> \n        <span class=\"highlight-container\" style=\"background:rgb(255.0, 79.0, 79.0) ;\">\n        <span class=\"highlight\"> ##ver </span>\n        </span> \n        <span class=\"highlight-container\" style=\"background:rgb(255.0, 89.0, 89.0) ;\">\n        <span class=\"highlight\"> b </span>\n        </span> \n        <span class=\"highlight-container\" style=\"background:rgb(255.0, 82.0, 82.0) ;\">\n        <span class=\"highlight\"> ##jo </span>\n        </span> \n        <span class=\"highlight-container\" style=\"background:rgb(255.0, 80.0, 80.0) ;\">\n        <span class=\"highlight\"> ##rk </span>\n        </span> \n        <span class=\"highlight-container\" style=\"background:rgb(255.0, 84.0, 84.0) ;\">\n        <span class=\"highlight\"> and </span>\n        </span> \n        <span class=\"highlight-container\" style=\"background:rgb(255.0, 61.0, 61.0) ;\">\n        <span class=\"highlight\"> listen </span>\n        </span> \n        <span class=\"highlight-container\" style=\"background:rgb(255.0, 88.0, 88.0) ;\">\n        <span class=\"highlight\"> to </span>\n        </span> \n        <span class=\"highlight-container\" style=\"background:rgb(255.0, 86.0, 86.0) ;\">\n        <span class=\"highlight\"> her </span>\n        </span> \n        <span class=\"highlight-container\" style=\"background:rgb(255.0, 81.0, 81.0) ;\">\n        <span class=\"highlight\"> full </span>\n        </span> \n        <span class=\"highlight-container\" style=\"background:rgb(255.0, 79.0, 79.0) ;\">\n        <span class=\"highlight\"> disco </span>\n        </span> \n        <span class=\"highlight-container\" style=\"background:rgb(255.0, 67.0, 67.0) ;\">\n        <span class=\"highlight\"> ##graphy </span>\n        </span> \n        <span class=\"highlight-container\" style=\"background:rgb(255.0, 78.0, 78.0) ;\">\n        <span class=\"highlight\"> [SEP] </span>\n        </span> \n    </p>\n</div>\n\n<div class=\"container\">\n    <p> Gradient X Input <br>\n        \n        <span class=\"highlight-container\" style=\"background:rgb(0.0, 0.0, 255.0) ;\">\n        <span class=\"highlight\"> [CLS] </span>\n        </span> \n        <span class=\"highlight-container\" style=\"background:rgb(135.0, 135.0, 255.0) ;\">\n        <span class=\"highlight\"> like </span>\n        </span> \n        <span class=\"highlight-container\" style=\"background:rgb(255.0, 100.0, 100.0) ;\">\n        <span class=\"highlight\"> four </span>\n        </span> \n        <span class=\"highlight-container\" style=\"background:rgb(141.0, 141.0, 255.0) ;\">\n        <span class=\"highlight\"> times </span>\n        </span> \n        <span class=\"highlight-container\" style=\"background:rgb(137.0, 137.0, 255.0) ;\">\n        <span class=\"highlight\"> a </span>\n        </span> \n        <span class=\"highlight-container\" style=\"background:rgb(139.0, 139.0, 255.0) ;\">\n        <span class=\"highlight\"> year </span>\n        </span> \n        <span class=\"highlight-container\" style=\"background:rgb(255.0, 104.0, 104.0) ;\">\n        <span class=\"highlight\"> i </span>\n        </span> \n        <span class=\"highlight-container\" style=\"background:rgb(138.0, 138.0, 255.0) ;\">\n        <span class=\"highlight\"> red </span>\n        </span> \n        <span class=\"highlight-container\" style=\"background:rgb(121.0, 121.0, 255.0) ;\">\n        <span class=\"highlight\"> ##is </span>\n        </span> \n        <span class=\"highlight-container\" style=\"background:rgb(255.0, 69.0, 69.0) ;\">\n        <span class=\"highlight\"> ##co </span>\n        </span> \n        <span class=\"highlight-container\" style=\"background:rgb(139.0, 139.0, 255.0) ;\">\n        <span class=\"highlight\"> ##ver </span>\n        </span> \n        <span class=\"highlight-container\" style=\"background:rgb(140.0, 140.0, 255.0) ;\">\n        <span class=\"highlight\"> b </span>\n        </span> \n        <span class=\"highlight-container\" style=\"background:rgb(119.0, 119.0, 255.0) ;\">\n        <span class=\"highlight\"> ##jo </span>\n        </span> \n        <span class=\"highlight-container\" style=\"background:rgb(104.0, 104.0, 255.0) ;\">\n        <span class=\"highlight\"> ##rk </span>\n        </span> \n        <span class=\"highlight-container\" style=\"background:rgb(255.0, 71.0, 71.0) ;\">\n        <span class=\"highlight\"> and </span>\n        </span> \n        <span class=\"highlight-container\" style=\"background:rgb(255.0, 99.0, 99.0) ;\">\n        <span class=\"highlight\"> listen </span>\n        </span> \n        <span class=\"highlight-container\" style=\"background:rgb(132.0, 132.0, 255.0) ;\">\n        <span class=\"highlight\"> to </span>\n        </span> \n        <span class=\"highlight-container\" style=\"background:rgb(116.0, 116.0, 254.0) ;\">\n        <span class=\"highlight\"> her </span>\n        </span> \n        <span class=\"highlight-container\" style=\"background:rgb(139.0, 139.0, 255.0) ;\">\n        <span class=\"highlight\"> full </span>\n        </span> \n        <span class=\"highlight-container\" style=\"background:rgb(139.0, 139.0, 255.0) ;\">\n        <span class=\"highlight\"> disco </span>\n        </span> \n        <span class=\"highlight-container\" style=\"background:rgb(255.0, 95.0, 95.0) ;\">\n        <span class=\"highlight\"> ##graphy </span>\n        </span> \n        <span class=\"highlight-container\" style=\"background:rgb(128.0, 128.0, 255.0) ;\">\n        <span class=\"highlight\"> [SEP] </span>\n        </span> \n    </p>\n</div>\n\n<div class=\"container\">\n    <p> Integrated Gradients <br>\n        \n        <span class=\"highlight-container\" style=\"background:rgb(138.0, 138.0, 255.0) ;\">\n        <span class=\"highlight\"> [CLS] </span>\n        </span> \n        <span class=\"highlight-container\" style=\"background:rgb(255.0, 42.0, 42.0) ;\">\n        <span class=\"highlight\"> like </span>\n        </span> \n        <span class=\"highlight-container\" style=\"background:rgb(255.0, 99.0, 99.0) ;\">\n        <span class=\"highlight\"> four </span>\n        </span> \n        <span class=\"highlight-container\" style=\"background:rgb(149.0, 149.0, 255.0) ;\">\n        <span class=\"highlight\"> times </span>\n        </span> \n        <span class=\"highlight-container\" style=\"background:rgb(149.0, 149.0, 255.0) ;\">\n        <span class=\"highlight\"> a </span>\n        </span> \n        <span class=\"highlight-container\" style=\"background:rgb(123.0, 123.0, 255.0) ;\">\n        <span class=\"highlight\"> year </span>\n        </span> \n        <span class=\"highlight-container\" style=\"background:rgb(255.0, 0.0, 0.0) ;\">\n        <span class=\"highlight\"> i </span>\n        </span> \n        <span class=\"highlight-container\" style=\"background:rgb(255.0, 55.0, 55.0) ;\">\n        <span class=\"highlight\"> red </span>\n        </span> \n        <span class=\"highlight-container\" style=\"background:rgb(255.0, 94.0, 94.0) ;\">\n        <span class=\"highlight\"> ##is </span>\n        </span> \n        <span class=\"highlight-container\" style=\"background:rgb(145.0, 145.0, 255.0) ;\">\n        <span class=\"highlight\"> ##co </span>\n        </span> \n        <span class=\"highlight-container\" style=\"background:rgb(139.0, 139.0, 255.0) ;\">\n        <span class=\"highlight\"> ##ver </span>\n        </span> \n        <span class=\"highlight-container\" style=\"background:rgb(136.0, 136.0, 255.0) ;\">\n        <span class=\"highlight\"> b </span>\n        </span> \n        <span class=\"highlight-container\" style=\"background:rgb(90.0, 90.0, 255.0) ;\">\n        <span class=\"highlight\"> ##jo </span>\n        </span> \n        <span class=\"highlight-container\" style=\"background:rgb(255.0, 80.0, 80.0) ;\">\n        <span class=\"highlight\"> ##rk </span>\n        </span> \n        <span class=\"highlight-container\" style=\"background:rgb(255.0, 65.0, 65.0) ;\">\n        <span class=\"highlight\"> and </span>\n        </span> \n        <span class=\"highlight-container\" style=\"background:rgb(255.0, 92.0, 92.0) ;\">\n        <span class=\"highlight\"> listen </span>\n        </span> \n        <span class=\"highlight-container\" style=\"background:rgb(255.0, 102.0, 102.0) ;\">\n        <span class=\"highlight\"> to </span>\n        </span> \n        <span class=\"highlight-container\" style=\"background:rgb(255.0, 86.0, 86.0) ;\">\n        <span class=\"highlight\"> her </span>\n        </span> \n        <span class=\"highlight-container\" style=\"background:rgb(138.0, 138.0, 255.0) ;\">\n        <span class=\"highlight\"> full </span>\n        </span> \n        <span class=\"highlight-container\" style=\"background:rgb(136.0, 136.0, 255.0) ;\">\n        <span class=\"highlight\"> disco </span>\n        </span> \n        <span class=\"highlight-container\" style=\"background:rgb(145.0, 145.0, 255.0) ;\">\n        <span class=\"highlight\"> ##graphy </span>\n        </span> \n        <span class=\"highlight-container\" style=\"background:rgb(255.0, 73.0, 73.0) ;\">\n        <span class=\"highlight\"> [SEP] </span>\n        </span> \n    </p>\n</div>\n\n<div class=\"container\">\n    <p> Smooth Grad + Gradient Norm <br>\n        \n        <span class=\"highlight-container\" style=\"background:rgb(255.0, 31.0, 31.0) ;\">\n        <span class=\"highlight\"> [CLS] </span>\n        </span> \n        <span class=\"highlight-container\" style=\"background:rgb(255.0, 86.0, 86.0) ;\">\n        <span class=\"highlight\"> like </span>\n        </span> \n        <span class=\"highlight-container\" style=\"background:rgb(255.0, 92.0, 92.0) ;\">\n        <span class=\"highlight\"> four </span>\n        </span> \n        <span class=\"highlight-container\" style=\"background:rgb(255.0, 88.0, 88.0) ;\">\n        <span class=\"highlight\"> times </span>\n        </span> \n        <span class=\"highlight-container\" style=\"background:rgb(255.0, 93.0, 93.0) ;\">\n        <span class=\"highlight\"> a </span>\n        </span> \n        <span class=\"highlight-container\" style=\"background:rgb(255.0, 88.0, 88.0) ;\">\n        <span class=\"highlight\"> year </span>\n        </span> \n        <span class=\"highlight-container\" style=\"background:rgb(255.0, 88.0, 88.0) ;\">\n        <span class=\"highlight\"> i </span>\n        </span> \n        <span class=\"highlight-container\" style=\"background:rgb(255.0, 81.0, 81.0) ;\">\n        <span class=\"highlight\"> red </span>\n        </span> \n        <span class=\"highlight-container\" style=\"background:rgb(255.0, 88.0, 88.0) ;\">\n        <span class=\"highlight\"> ##is </span>\n        </span> \n        <span class=\"highlight-container\" style=\"background:rgb(255.0, 83.0, 83.0) ;\">\n        <span class=\"highlight\"> ##co </span>\n        </span> \n        <span class=\"highlight-container\" style=\"background:rgb(255.0, 79.0, 79.0) ;\">\n        <span class=\"highlight\"> ##ver </span>\n        </span> \n        <span class=\"highlight-container\" style=\"background:rgb(255.0, 89.0, 89.0) ;\">\n        <span class=\"highlight\"> b </span>\n        </span> \n        <span class=\"highlight-container\" style=\"background:rgb(255.0, 82.0, 82.0) ;\">\n        <span class=\"highlight\"> ##jo </span>\n        </span> \n        <span class=\"highlight-container\" style=\"background:rgb(255.0, 80.0, 80.0) ;\">\n        <span class=\"highlight\"> ##rk </span>\n        </span> \n        <span class=\"highlight-container\" style=\"background:rgb(255.0, 84.0, 84.0) ;\">\n        <span class=\"highlight\"> and </span>\n        </span> \n        <span class=\"highlight-container\" style=\"background:rgb(255.0, 61.0, 61.0) ;\">\n        <span class=\"highlight\"> listen </span>\n        </span> \n        <span class=\"highlight-container\" style=\"background:rgb(255.0, 88.0, 88.0) ;\">\n        <span class=\"highlight\"> to </span>\n        </span> \n        <span class=\"highlight-container\" style=\"background:rgb(255.0, 86.0, 86.0) ;\">\n        <span class=\"highlight\"> her </span>\n        </span> \n        <span class=\"highlight-container\" style=\"background:rgb(255.0, 81.0, 81.0) ;\">\n        <span class=\"highlight\"> full </span>\n        </span> \n        <span class=\"highlight-container\" style=\"background:rgb(255.0, 79.0, 79.0) ;\">\n        <span class=\"highlight\"> disco </span>\n        </span> \n        <span class=\"highlight-container\" style=\"background:rgb(255.0, 67.0, 67.0) ;\">\n        <span class=\"highlight\"> ##graphy </span>\n        </span> \n        <span class=\"highlight-container\" style=\"background:rgb(255.0, 78.0, 78.0) ;\">\n        <span class=\"highlight\"> [SEP] </span>\n        </span> \n    </p>\n</div>\n\n<div class=\"container\">\n    <p> Smooth Grad + Gradient X Input <br>\n        \n        <span class=\"highlight-container\" style=\"background:rgb(0.0, 0.0, 255.0) ;\">\n        <span class=\"highlight\"> [CLS] </span>\n        </span> \n        <span class=\"highlight-container\" style=\"background:rgb(135.0, 135.0, 255.0) ;\">\n        <span class=\"highlight\"> like </span>\n        </span> \n        <span class=\"highlight-container\" style=\"background:rgb(255.0, 100.0, 100.0) ;\">\n        <span class=\"highlight\"> four </span>\n        </span> \n        <span class=\"highlight-container\" style=\"background:rgb(141.0, 141.0, 255.0) ;\">\n        <span class=\"highlight\"> times </span>\n        </span> \n        <span class=\"highlight-container\" style=\"background:rgb(137.0, 137.0, 255.0) ;\">\n        <span class=\"highlight\"> a </span>\n        </span> \n        <span class=\"highlight-container\" style=\"background:rgb(139.0, 139.0, 255.0) ;\">\n        <span class=\"highlight\"> year </span>\n        </span> \n        <span class=\"highlight-container\" style=\"background:rgb(255.0, 104.0, 104.0) ;\">\n        <span class=\"highlight\"> i </span>\n        </span> \n        <span class=\"highlight-container\" style=\"background:rgb(138.0, 138.0, 255.0) ;\">\n        <span class=\"highlight\"> red </span>\n        </span> \n        <span class=\"highlight-container\" style=\"background:rgb(121.0, 121.0, 255.0) ;\">\n        <span class=\"highlight\"> ##is </span>\n        </span> \n        <span class=\"highlight-container\" style=\"background:rgb(255.0, 69.0, 69.0) ;\">\n        <span class=\"highlight\"> ##co </span>\n        </span> \n        <span class=\"highlight-container\" style=\"background:rgb(139.0, 139.0, 255.0) ;\">\n        <span class=\"highlight\"> ##ver </span>\n        </span> \n        <span class=\"highlight-container\" style=\"background:rgb(139.0, 139.0, 255.0) ;\">\n        <span class=\"highlight\"> b </span>\n        </span> \n        <span class=\"highlight-container\" style=\"background:rgb(119.0, 119.0, 255.0) ;\">\n        <span class=\"highlight\"> ##jo </span>\n        </span> \n        <span class=\"highlight-container\" style=\"background:rgb(104.0, 104.0, 255.0) ;\">\n        <span class=\"highlight\"> ##rk </span>\n        </span> \n        <span class=\"highlight-container\" style=\"background:rgb(255.0, 71.0, 71.0) ;\">\n        <span class=\"highlight\"> and </span>\n        </span> \n        <span class=\"highlight-container\" style=\"background:rgb(255.0, 98.0, 98.0) ;\">\n        <span class=\"highlight\"> listen </span>\n        </span> \n        <span class=\"highlight-container\" style=\"background:rgb(132.0, 132.0, 255.0) ;\">\n        <span class=\"highlight\"> to </span>\n        </span> \n        <span class=\"highlight-container\" style=\"background:rgb(117.0, 117.0, 255.0) ;\">\n        <span class=\"highlight\"> her </span>\n        </span> \n        <span class=\"highlight-container\" style=\"background:rgb(139.0, 139.0, 255.0) ;\">\n        <span class=\"highlight\"> full </span>\n        </span> \n        <span class=\"highlight-container\" style=\"background:rgb(139.0, 139.0, 255.0) ;\">\n        <span class=\"highlight\"> disco </span>\n        </span> \n        <span class=\"highlight-container\" style=\"background:rgb(255.0, 95.0, 95.0) ;\">\n        <span class=\"highlight\"> ##graphy </span>\n        </span> \n        <span class=\"highlight-container\" style=\"background:rgb(128.0, 128.0, 255.0) ;\">\n        <span class=\"highlight\"> [SEP] </span>\n        </span> \n    </p>\n</div>\n\n<div class=\"container\">\n    <p> Smooth Grad + Integrated Gradients <br>\n        \n        <span class=\"highlight-container\" style=\"background:rgb(138.0, 138.0, 255.0) ;\">\n        <span class=\"highlight\"> [CLS] </span>\n        </span> \n        <span class=\"highlight-container\" style=\"background:rgb(255.0, 42.0, 42.0) ;\">\n        <span class=\"highlight\"> like </span>\n        </span> \n        <span class=\"highlight-container\" style=\"background:rgb(255.0, 99.0, 99.0) ;\">\n        <span class=\"highlight\"> four </span>\n        </span> \n        <span class=\"highlight-container\" style=\"background:rgb(149.0, 149.0, 255.0) ;\">\n        <span class=\"highlight\"> times </span>\n        </span> \n        <span class=\"highlight-container\" style=\"background:rgb(149.0, 149.0, 255.0) ;\">\n        <span class=\"highlight\"> a </span>\n        </span> \n        <span class=\"highlight-container\" style=\"background:rgb(123.0, 123.0, 255.0) ;\">\n        <span class=\"highlight\"> year </span>\n        </span> \n        <span class=\"highlight-container\" style=\"background:rgb(255.0, 0.0, 0.0) ;\">\n        <span class=\"highlight\"> i </span>\n        </span> \n        <span class=\"highlight-container\" style=\"background:rgb(255.0, 55.0, 55.0) ;\">\n        <span class=\"highlight\"> red </span>\n        </span> \n        <span class=\"highlight-container\" style=\"background:rgb(255.0, 94.0, 94.0) ;\">\n        <span class=\"highlight\"> ##is </span>\n        </span> \n        <span class=\"highlight-container\" style=\"background:rgb(145.0, 145.0, 255.0) ;\">\n        <span class=\"highlight\"> ##co </span>\n        </span> \n        <span class=\"highlight-container\" style=\"background:rgb(139.0, 139.0, 255.0) ;\">\n        <span class=\"highlight\"> ##ver </span>\n        </span> \n        <span class=\"highlight-container\" style=\"background:rgb(136.0, 136.0, 255.0) ;\">\n        <span class=\"highlight\"> b </span>\n        </span> \n        <span class=\"highlight-container\" style=\"background:rgb(90.0, 90.0, 255.0) ;\">\n        <span class=\"highlight\"> ##jo </span>\n        </span> \n        <span class=\"highlight-container\" style=\"background:rgb(255.0, 80.0, 80.0) ;\">\n        <span class=\"highlight\"> ##rk </span>\n        </span> \n        <span class=\"highlight-container\" style=\"background:rgb(255.0, 64.0, 64.0) ;\">\n        <span class=\"highlight\"> and </span>\n        </span> \n        <span class=\"highlight-container\" style=\"background:rgb(255.0, 92.0, 92.0) ;\">\n        <span class=\"highlight\"> listen </span>\n        </span> \n        <span class=\"highlight-container\" style=\"background:rgb(255.0, 102.0, 102.0) ;\">\n        <span class=\"highlight\"> to </span>\n        </span> \n        <span class=\"highlight-container\" style=\"background:rgb(255.0, 86.0, 86.0) ;\">\n        <span class=\"highlight\"> her </span>\n        </span> \n        <span class=\"highlight-container\" style=\"background:rgb(138.0, 138.0, 255.0) ;\">\n        <span class=\"highlight\"> full </span>\n        </span> \n        <span class=\"highlight-container\" style=\"background:rgb(136.0, 136.0, 255.0) ;\">\n        <span class=\"highlight\"> disco </span>\n        </span> \n        <span class=\"highlight-container\" style=\"background:rgb(145.0, 145.0, 255.0) ;\">\n        <span class=\"highlight\"> ##graphy </span>\n        </span> \n        <span class=\"highlight-container\" style=\"background:rgb(255.0, 73.0, 73.0) ;\">\n        <span class=\"highlight\"> [SEP] </span>\n        </span> \n    </p>\n</div>\n\n<div class=\"container\">\n    <p> Noise Grad + Gradient Norm <br>\n        \n        <span class=\"highlight-container\" style=\"background:rgb(255.0, 31.0, 31.0) ;\">\n        <span class=\"highlight\"> [CLS] </span>\n        </span> \n        <span class=\"highlight-container\" style=\"background:rgb(255.0, 86.0, 86.0) ;\">\n        <span class=\"highlight\"> like </span>\n        </span> \n        <span class=\"highlight-container\" style=\"background:rgb(255.0, 92.0, 92.0) ;\">\n        <span class=\"highlight\"> four </span>\n        </span> \n        <span class=\"highlight-container\" style=\"background:rgb(255.0, 89.0, 89.0) ;\">\n        <span class=\"highlight\"> times </span>\n        </span> \n        <span class=\"highlight-container\" style=\"background:rgb(255.0, 94.0, 94.0) ;\">\n        <span class=\"highlight\"> a </span>\n        </span> \n        <span class=\"highlight-container\" style=\"background:rgb(255.0, 88.0, 88.0) ;\">\n        <span class=\"highlight\"> year </span>\n        </span> \n        <span class=\"highlight-container\" style=\"background:rgb(255.0, 88.0, 88.0) ;\">\n        <span class=\"highlight\"> i </span>\n        </span> \n        <span class=\"highlight-container\" style=\"background:rgb(255.0, 81.0, 81.0) ;\">\n        <span class=\"highlight\"> red </span>\n        </span> \n        <span class=\"highlight-container\" style=\"background:rgb(255.0, 88.0, 88.0) ;\">\n        <span class=\"highlight\"> ##is </span>\n        </span> \n        <span class=\"highlight-container\" style=\"background:rgb(255.0, 83.0, 83.0) ;\">\n        <span class=\"highlight\"> ##co </span>\n        </span> \n        <span class=\"highlight-container\" style=\"background:rgb(255.0, 79.0, 79.0) ;\">\n        <span class=\"highlight\"> ##ver </span>\n        </span> \n        <span class=\"highlight-container\" style=\"background:rgb(255.0, 88.0, 88.0) ;\">\n        <span class=\"highlight\"> b </span>\n        </span> \n        <span class=\"highlight-container\" style=\"background:rgb(255.0, 82.0, 82.0) ;\">\n        <span class=\"highlight\"> ##jo </span>\n        </span> \n        <span class=\"highlight-container\" style=\"background:rgb(255.0, 80.0, 80.0) ;\">\n        <span class=\"highlight\"> ##rk </span>\n        </span> \n        <span class=\"highlight-container\" style=\"background:rgb(255.0, 84.0, 84.0) ;\">\n        <span class=\"highlight\"> and </span>\n        </span> \n        <span class=\"highlight-container\" style=\"background:rgb(255.0, 61.0, 61.0) ;\">\n        <span class=\"highlight\"> listen </span>\n        </span> \n        <span class=\"highlight-container\" style=\"background:rgb(255.0, 88.0, 88.0) ;\">\n        <span class=\"highlight\"> to </span>\n        </span> \n        <span class=\"highlight-container\" style=\"background:rgb(255.0, 86.0, 86.0) ;\">\n        <span class=\"highlight\"> her </span>\n        </span> \n        <span class=\"highlight-container\" style=\"background:rgb(255.0, 81.0, 81.0) ;\">\n        <span class=\"highlight\"> full </span>\n        </span> \n        <span class=\"highlight-container\" style=\"background:rgb(255.0, 78.0, 78.0) ;\">\n        <span class=\"highlight\"> disco </span>\n        </span> \n        <span class=\"highlight-container\" style=\"background:rgb(255.0, 67.0, 67.0) ;\">\n        <span class=\"highlight\"> ##graphy </span>\n        </span> \n        <span class=\"highlight-container\" style=\"background:rgb(255.0, 79.0, 79.0) ;\">\n        <span class=\"highlight\"> [SEP] </span>\n        </span> \n    </p>\n</div>\n\n<div class=\"container\">\n    <p> Noise Grad + Gradient X Input <br>\n        \n        <span class=\"highlight-container\" style=\"background:rgb(4.0, 4.0, 255.0) ;\">\n        <span class=\"highlight\"> [CLS] </span>\n        </span> \n        <span class=\"highlight-container\" style=\"background:rgb(137.0, 137.0, 255.0) ;\">\n        <span class=\"highlight\"> like </span>\n        </span> \n        <span class=\"highlight-container\" style=\"background:rgb(255.0, 98.0, 98.0) ;\">\n        <span class=\"highlight\"> four </span>\n        </span> \n        <span class=\"highlight-container\" style=\"background:rgb(141.0, 141.0, 255.0) ;\">\n        <span class=\"highlight\"> times </span>\n        </span> \n        <span class=\"highlight-container\" style=\"background:rgb(136.0, 136.0, 255.0) ;\">\n        <span class=\"highlight\"> a </span>\n        </span> \n        <span class=\"highlight-container\" style=\"background:rgb(141.0, 141.0, 255.0) ;\">\n        <span class=\"highlight\"> year </span>\n        </span> \n        <span class=\"highlight-container\" style=\"background:rgb(255.0, 103.0, 103.0) ;\">\n        <span class=\"highlight\"> i </span>\n        </span> \n        <span class=\"highlight-container\" style=\"background:rgb(143.0, 143.0, 255.0) ;\">\n        <span class=\"highlight\"> red </span>\n        </span> \n        <span class=\"highlight-container\" style=\"background:rgb(121.0, 121.0, 255.0) ;\">\n        <span class=\"highlight\"> ##is </span>\n        </span> \n        <span class=\"highlight-container\" style=\"background:rgb(255.0, 69.0, 69.0) ;\">\n        <span class=\"highlight\"> ##co </span>\n        </span> \n        <span class=\"highlight-container\" style=\"background:rgb(135.0, 135.0, 255.0) ;\">\n        <span class=\"highlight\"> ##ver </span>\n        </span> \n        <span class=\"highlight-container\" style=\"background:rgb(137.0, 137.0, 255.0) ;\">\n        <span class=\"highlight\"> b </span>\n        </span> \n        <span class=\"highlight-container\" style=\"background:rgb(118.0, 118.0, 255.0) ;\">\n        <span class=\"highlight\"> ##jo </span>\n        </span> \n        <span class=\"highlight-container\" style=\"background:rgb(104.0, 104.0, 255.0) ;\">\n        <span class=\"highlight\"> ##rk </span>\n        </span> \n        <span class=\"highlight-container\" style=\"background:rgb(255.0, 69.0, 69.0) ;\">\n        <span class=\"highlight\"> and </span>\n        </span> \n        <span class=\"highlight-container\" style=\"background:rgb(255.0, 100.0, 100.0) ;\">\n        <span class=\"highlight\"> listen </span>\n        </span> \n        <span class=\"highlight-container\" style=\"background:rgb(129.0, 129.0, 255.0) ;\">\n        <span class=\"highlight\"> to </span>\n        </span> \n        <span class=\"highlight-container\" style=\"background:rgb(114.0, 114.0, 255.0) ;\">\n        <span class=\"highlight\"> her </span>\n        </span> \n        <span class=\"highlight-container\" style=\"background:rgb(137.0, 137.0, 255.0) ;\">\n        <span class=\"highlight\"> full </span>\n        </span> \n        <span class=\"highlight-container\" style=\"background:rgb(142.0, 142.0, 255.0) ;\">\n        <span class=\"highlight\"> disco </span>\n        </span> \n        <span class=\"highlight-container\" style=\"background:rgb(255.0, 89.0, 89.0) ;\">\n        <span class=\"highlight\"> ##graphy </span>\n        </span> \n        <span class=\"highlight-container\" style=\"background:rgb(135.0, 135.0, 255.0) ;\">\n        <span class=\"highlight\"> [SEP] </span>\n        </span> \n    </p>\n</div>\n\n<div class=\"container\">\n    <p> Noise Grad + Integrated Gradients <br>\n        \n        <span class=\"highlight-container\" style=\"background:rgb(139.0, 139.0, 255.0) ;\">\n        <span class=\"highlight\"> [CLS] </span>\n        </span> \n        <span class=\"highlight-container\" style=\"background:rgb(255.0, 32.0, 32.0) ;\">\n        <span class=\"highlight\"> like </span>\n        </span> \n        <span class=\"highlight-container\" style=\"background:rgb(255.0, 88.0, 88.0) ;\">\n        <span class=\"highlight\"> four </span>\n        </span> \n        <span class=\"highlight-container\" style=\"background:rgb(255.0, 90.0, 90.0) ;\">\n        <span class=\"highlight\"> times </span>\n        </span> \n        <span class=\"highlight-container\" style=\"background:rgb(255.0, 83.0, 83.0) ;\">\n        <span class=\"highlight\"> a </span>\n        </span> \n        <span class=\"highlight-container\" style=\"background:rgb(129.0, 129.0, 255.0) ;\">\n        <span class=\"highlight\"> year </span>\n        </span> \n        <span class=\"highlight-container\" style=\"background:rgb(255.0, 22.0, 22.0) ;\">\n        <span class=\"highlight\"> i </span>\n        </span> \n        <span class=\"highlight-container\" style=\"background:rgb(255.0, 62.0, 62.0) ;\">\n        <span class=\"highlight\"> red </span>\n        </span> \n        <span class=\"highlight-container\" style=\"background:rgb(255.0, 94.0, 94.0) ;\">\n        <span class=\"highlight\"> ##is </span>\n        </span> \n        <span class=\"highlight-container\" style=\"background:rgb(255.0, 101.0, 101.0) ;\">\n        <span class=\"highlight\"> ##co </span>\n        </span> \n        <span class=\"highlight-container\" style=\"background:rgb(147.0, 147.0, 255.0) ;\">\n        <span class=\"highlight\"> ##ver </span>\n        </span> \n        <span class=\"highlight-container\" style=\"background:rgb(132.0, 132.0, 255.0) ;\">\n        <span class=\"highlight\"> b </span>\n        </span> \n        <span class=\"highlight-container\" style=\"background:rgb(113.0, 113.0, 255.0) ;\">\n        <span class=\"highlight\"> ##jo </span>\n        </span> \n        <span class=\"highlight-container\" style=\"background:rgb(255.0, 80.0, 80.0) ;\">\n        <span class=\"highlight\"> ##rk </span>\n        </span> \n        <span class=\"highlight-container\" style=\"background:rgb(255.0, 54.0, 54.0) ;\">\n        <span class=\"highlight\"> and </span>\n        </span> \n        <span class=\"highlight-container\" style=\"background:rgb(255.0, 89.0, 89.0) ;\">\n        <span class=\"highlight\"> listen </span>\n        </span> \n        <span class=\"highlight-container\" style=\"background:rgb(255.0, 97.0, 97.0) ;\">\n        <span class=\"highlight\"> to </span>\n        </span> \n        <span class=\"highlight-container\" style=\"background:rgb(255.0, 98.0, 98.0) ;\">\n        <span class=\"highlight\"> her </span>\n        </span> \n        <span class=\"highlight-container\" style=\"background:rgb(145.0, 145.0, 255.0) ;\">\n        <span class=\"highlight\"> full </span>\n        </span> \n        <span class=\"highlight-container\" style=\"background:rgb(145.0, 145.0, 255.0) ;\">\n        <span class=\"highlight\"> disco </span>\n        </span> \n        <span class=\"highlight-container\" style=\"background:rgb(255.0, 99.0, 99.0) ;\">\n        <span class=\"highlight\"> ##graphy </span>\n        </span> \n        <span class=\"highlight-container\" style=\"background:rgb(255.0, 54.0, 54.0) ;\">\n        <span class=\"highlight\"> [SEP] </span>\n        </span> \n    </p>\n</div>\n\n<div class=\"container\">\n    <p> FusionGrad + Gradient Norm <br>\n        \n        <span class=\"highlight-container\" style=\"background:rgb(255.0, 71.0, 71.0) ;\">\n        <span class=\"highlight\"> [CLS] </span>\n        </span> \n        <span class=\"highlight-container\" style=\"background:rgb(255.0, 80.0, 80.0) ;\">\n        <span class=\"highlight\"> like </span>\n        </span> \n        <span class=\"highlight-container\" style=\"background:rgb(255.0, 82.0, 82.0) ;\">\n        <span class=\"highlight\"> four </span>\n        </span> \n        <span class=\"highlight-container\" style=\"background:rgb(255.0, 84.0, 84.0) ;\">\n        <span class=\"highlight\"> times </span>\n        </span> \n        <span class=\"highlight-container\" style=\"background:rgb(255.0, 76.0, 76.0) ;\">\n        <span class=\"highlight\"> a </span>\n        </span> \n        <span class=\"highlight-container\" style=\"background:rgb(255.0, 85.0, 85.0) ;\">\n        <span class=\"highlight\"> year </span>\n        </span> \n        <span class=\"highlight-container\" style=\"background:rgb(255.0, 81.0, 81.0) ;\">\n        <span class=\"highlight\"> i </span>\n        </span> \n        <span class=\"highlight-container\" style=\"background:rgb(255.0, 83.0, 83.0) ;\">\n        <span class=\"highlight\"> red </span>\n        </span> \n        <span class=\"highlight-container\" style=\"background:rgb(255.0, 84.0, 84.0) ;\">\n        <span class=\"highlight\"> ##is </span>\n        </span> \n        <span class=\"highlight-container\" style=\"background:rgb(255.0, 84.0, 84.0) ;\">\n        <span class=\"highlight\"> ##co </span>\n        </span> \n        <span class=\"highlight-container\" style=\"background:rgb(255.0, 84.0, 84.0) ;\">\n        <span class=\"highlight\"> ##ver </span>\n        </span> \n        <span class=\"highlight-container\" style=\"background:rgb(255.0, 82.0, 82.0) ;\">\n        <span class=\"highlight\"> b </span>\n        </span> \n        <span class=\"highlight-container\" style=\"background:rgb(255.0, 82.0, 82.0) ;\">\n        <span class=\"highlight\"> ##jo </span>\n        </span> \n        <span class=\"highlight-container\" style=\"background:rgb(255.0, 84.0, 84.0) ;\">\n        <span class=\"highlight\"> ##rk </span>\n        </span> \n        <span class=\"highlight-container\" style=\"background:rgb(255.0, 74.0, 74.0) ;\">\n        <span class=\"highlight\"> and </span>\n        </span> \n        <span class=\"highlight-container\" style=\"background:rgb(255.0, 82.0, 82.0) ;\">\n        <span class=\"highlight\"> listen </span>\n        </span> \n        <span class=\"highlight-container\" style=\"background:rgb(255.0, 74.0, 74.0) ;\">\n        <span class=\"highlight\"> to </span>\n        </span> \n        <span class=\"highlight-container\" style=\"background:rgb(255.0, 80.0, 80.0) ;\">\n        <span class=\"highlight\"> her </span>\n        </span> \n        <span class=\"highlight-container\" style=\"background:rgb(255.0, 83.0, 83.0) ;\">\n        <span class=\"highlight\"> full </span>\n        </span> \n        <span class=\"highlight-container\" style=\"background:rgb(255.0, 86.0, 86.0) ;\">\n        <span class=\"highlight\"> disco </span>\n        </span> \n        <span class=\"highlight-container\" style=\"background:rgb(255.0, 83.0, 83.0) ;\">\n        <span class=\"highlight\"> ##graphy </span>\n        </span> \n        <span class=\"highlight-container\" style=\"background:rgb(255.0, 68.0, 68.0) ;\">\n        <span class=\"highlight\"> [SEP] </span>\n        </span> \n    </p>\n</div>\n\n<div class=\"container\">\n    <p> FusionGrad + Gradient X Input <br>\n        \n        <span class=\"highlight-container\" style=\"background:rgb(255.0, 75.0, 75.0) ;\">\n        <span class=\"highlight\"> [CLS] </span>\n        </span> \n        <span class=\"highlight-container\" style=\"background:rgb(78.0, 78.0, 255.0) ;\">\n        <span class=\"highlight\"> like </span>\n        </span> \n        <span class=\"highlight-container\" style=\"background:rgb(85.0, 85.0, 255.0) ;\">\n        <span class=\"highlight\"> four </span>\n        </span> \n        <span class=\"highlight-container\" style=\"background:rgb(145.0, 145.0, 255.0) ;\">\n        <span class=\"highlight\"> times </span>\n        </span> \n        <span class=\"highlight-container\" style=\"background:rgb(116.0, 116.0, 255.0) ;\">\n        <span class=\"highlight\"> a </span>\n        </span> \n        <span class=\"highlight-container\" style=\"background:rgb(133.0, 133.0, 255.0) ;\">\n        <span class=\"highlight\"> year </span>\n        </span> \n        <span class=\"highlight-container\" style=\"background:rgb(130.0, 130.0, 255.0) ;\">\n        <span class=\"highlight\"> i </span>\n        </span> \n        <span class=\"highlight-container\" style=\"background:rgb(255.0, 97.0, 97.0) ;\">\n        <span class=\"highlight\"> red </span>\n        </span> \n        <span class=\"highlight-container\" style=\"background:rgb(140.0, 140.0, 255.0) ;\">\n        <span class=\"highlight\"> ##is </span>\n        </span> \n        <span class=\"highlight-container\" style=\"background:rgb(147.0, 147.0, 255.0) ;\">\n        <span class=\"highlight\"> ##co </span>\n        </span> \n        <span class=\"highlight-container\" style=\"background:rgb(138.0, 138.0, 255.0) ;\">\n        <span class=\"highlight\"> ##ver </span>\n        </span> \n        <span class=\"highlight-container\" style=\"background:rgb(255.0, 68.0, 68.0) ;\">\n        <span class=\"highlight\"> b </span>\n        </span> \n        <span class=\"highlight-container\" style=\"background:rgb(133.0, 133.0, 255.0) ;\">\n        <span class=\"highlight\"> ##jo </span>\n        </span> \n        <span class=\"highlight-container\" style=\"background:rgb(131.0, 131.0, 255.0) ;\">\n        <span class=\"highlight\"> ##rk </span>\n        </span> \n        <span class=\"highlight-container\" style=\"background:rgb(255.0, 63.0, 63.0) ;\">\n        <span class=\"highlight\"> and </span>\n        </span> \n        <span class=\"highlight-container\" style=\"background:rgb(144.0, 144.0, 255.0) ;\">\n        <span class=\"highlight\"> listen </span>\n        </span> \n        <span class=\"highlight-container\" style=\"background:rgb(91.0, 91.0, 255.0) ;\">\n        <span class=\"highlight\"> to </span>\n        </span> \n        <span class=\"highlight-container\" style=\"background:rgb(143.0, 143.0, 255.0) ;\">\n        <span class=\"highlight\"> her </span>\n        </span> \n        <span class=\"highlight-container\" style=\"background:rgb(142.0, 142.0, 255.0) ;\">\n        <span class=\"highlight\"> full </span>\n        </span> \n        <span class=\"highlight-container\" style=\"background:rgb(146.0, 146.0, 255.0) ;\">\n        <span class=\"highlight\"> disco </span>\n        </span> \n        <span class=\"highlight-container\" style=\"background:rgb(117.0, 117.0, 255.0) ;\">\n        <span class=\"highlight\"> ##graphy </span>\n        </span> \n        <span class=\"highlight-container\" style=\"background:rgb(255.0, 85.0, 85.0) ;\">\n        <span class=\"highlight\"> [SEP] </span>\n        </span> \n    </p>\n</div>\n\n<div class=\"container\">\n    <p> FusionGrad + Integrated Gradients <br>\n        \n        <span class=\"highlight-container\" style=\"background:rgb(255.0, 86.0, 86.0) ;\">\n        <span class=\"highlight\"> [CLS] </span>\n        </span> \n        <span class=\"highlight-container\" style=\"background:rgb(255.0, 90.0, 90.0) ;\">\n        <span class=\"highlight\"> like </span>\n        </span> \n        <span class=\"highlight-container\" style=\"background:rgb(255.0, 72.0, 72.0) ;\">\n        <span class=\"highlight\"> four </span>\n        </span> \n        <span class=\"highlight-container\" style=\"background:rgb(255.0, 89.0, 89.0) ;\">\n        <span class=\"highlight\"> times </span>\n        </span> \n        <span class=\"highlight-container\" style=\"background:rgb(255.0, 102.0, 102.0) ;\">\n        <span class=\"highlight\"> a </span>\n        </span> \n        <span class=\"highlight-container\" style=\"background:rgb(131.0, 131.0, 255.0) ;\">\n        <span class=\"highlight\"> year </span>\n        </span> \n        <span class=\"highlight-container\" style=\"background:rgb(136.0, 136.0, 255.0) ;\">\n        <span class=\"highlight\"> i </span>\n        </span> \n        <span class=\"highlight-container\" style=\"background:rgb(255.0, 91.0, 91.0) ;\">\n        <span class=\"highlight\"> red </span>\n        </span> \n        <span class=\"highlight-container\" style=\"background:rgb(81.0, 81.0, 255.0) ;\">\n        <span class=\"highlight\"> ##is </span>\n        </span> \n        <span class=\"highlight-container\" style=\"background:rgb(102.0, 102.0, 255.0) ;\">\n        <span class=\"highlight\"> ##co </span>\n        </span> \n        <span class=\"highlight-container\" style=\"background:rgb(134.0, 134.0, 255.0) ;\">\n        <span class=\"highlight\"> ##ver </span>\n        </span> \n        <span class=\"highlight-container\" style=\"background:rgb(255.0, 103.0, 103.0) ;\">\n        <span class=\"highlight\"> b </span>\n        </span> \n        <span class=\"highlight-container\" style=\"background:rgb(119.0, 119.0, 255.0) ;\">\n        <span class=\"highlight\"> ##jo </span>\n        </span> \n        <span class=\"highlight-container\" style=\"background:rgb(111.0, 111.0, 255.0) ;\">\n        <span class=\"highlight\"> ##rk </span>\n        </span> \n        <span class=\"highlight-container\" style=\"background:rgb(255.0, 102.0, 102.0) ;\">\n        <span class=\"highlight\"> and </span>\n        </span> \n        <span class=\"highlight-container\" style=\"background:rgb(89.0, 89.0, 255.0) ;\">\n        <span class=\"highlight\"> listen </span>\n        </span> \n        <span class=\"highlight-container\" style=\"background:rgb(119.0, 119.0, 255.0) ;\">\n        <span class=\"highlight\"> to </span>\n        </span> \n        <span class=\"highlight-container\" style=\"background:rgb(97.0, 97.0, 255.0) ;\">\n        <span class=\"highlight\"> her </span>\n        </span> \n        <span class=\"highlight-container\" style=\"background:rgb(139.0, 139.0, 255.0) ;\">\n        <span class=\"highlight\"> full </span>\n        </span> \n        <span class=\"highlight-container\" style=\"background:rgb(132.0, 132.0, 255.0) ;\">\n        <span class=\"highlight\"> disco </span>\n        </span> \n        <span class=\"highlight-container\" style=\"background:rgb(255.0, 97.0, 97.0) ;\">\n        <span class=\"highlight\"> ##graphy </span>\n        </span> \n        <span class=\"highlight-container\" style=\"background:rgb(255.0, 99.0, 99.0) ;\">\n        <span class=\"highlight\"> [SEP] </span>\n        </span> \n    </p>\n</div>\n\n</body>\n</html>"
     },
     "execution_count": 16,
     "metadata": {},
     "output_type": "execute_result"
    }
   ],
   "source": [
    "html_heatmap(\n",
    "    a_batch,\n",
    "    labels=[\n",
    "        \"Gradient Norm\",\n",
    "        \"Gradient X Input\",\n",
    "        \"Integrated Gradients\",\n",
    "        \"Smooth Grad + Gradient Norm\",\n",
    "        \"Smooth Grad + Gradient X Input\",\n",
    "        \"Smooth Grad + Integrated Gradients\",\n",
    "        \"Noise Grad + Gradient Norm\",\n",
    "        \"Noise Grad + Gradient X Input\",\n",
    "        \"Noise Grad + Integrated Gradients\",\n",
    "        \"FusionGrad + Gradient Norm\",\n",
    "        \"FusionGrad + Gradient X Input\",\n",
    "        \"FusionGrad + Integrated Gradients\",\n",
    "    ],\n",
    "    config=dict(color_mapping_strategy=\"global\"),\n",
    ")"
   ],
   "metadata": {
    "collapsed": false,
    "ExecuteTime": {
     "end_time": "2023-05-04T15:11:26.896930Z",
     "start_time": "2023-05-04T15:11:26.341782Z"
    }
   }
  },
  {
   "cell_type": "code",
   "execution_count": null,
   "outputs": [],
   "source": [],
   "metadata": {
    "collapsed": false
   }
  }
 ],
 "metadata": {
  "kernelspec": {
   "display_name": "Python 3",
   "language": "python",
   "name": "python3"
  },
  "language_info": {
   "codemirror_mode": {
    "name": "ipython",
    "version": 2
   },
   "file_extension": ".py",
   "mimetype": "text/x-python",
   "name": "python",
   "nbconvert_exporter": "python",
   "pygments_lexer": "ipython2",
   "version": "2.7.6"
  }
 },
 "nbformat": 4,
 "nbformat_minor": 0
}
